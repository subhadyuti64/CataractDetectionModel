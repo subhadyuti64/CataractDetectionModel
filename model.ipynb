{
 "cells": [
  {
   "cell_type": "code",
   "execution_count": 34,
   "id": "6f82b135",
   "metadata": {},
   "outputs": [],
   "source": [
    "import os\n",
    "import torch\n",
    "import torch.nn as nn\n",
    "import torch.optim as optim\n",
    "from torchvision import datasets, transforms, models\n",
    "from torch.utils.data import DataLoader, random_split\n",
    "from sklearn.metrics import classification_report\n",
    "import matplotlib.pyplot as plt\n"
   ]
  },
  {
   "cell_type": "code",
   "execution_count": 35,
   "id": "9ee38cb4",
   "metadata": {},
   "outputs": [],
   "source": [
    "data_dir = \"/Users/subhadyutirath/Documents/CataractDetectionModel/train\""
   ]
  },
  {
   "cell_type": "code",
   "execution_count": 36,
   "id": "fc6c6134",
   "metadata": {},
   "outputs": [],
   "source": [
    "transform = transforms.Compose([\n",
    "    transforms.Resize((224, 224)),\n",
    "    transforms.ToTensor(),\n",
    "    transforms.Normalize([0.5], [0.5])\n",
    "])"
   ]
  },
  {
   "cell_type": "code",
   "execution_count": 37,
   "id": "a6e2ae1b",
   "metadata": {},
   "outputs": [],
   "source": [
    "full_dataset = datasets.ImageFolder(root=data_dir, transform=transform)"
   ]
  },
  {
   "cell_type": "code",
   "execution_count": 38,
   "id": "86ee3dd1",
   "metadata": {},
   "outputs": [
    {
     "name": "stdout",
     "output_type": "stream",
     "text": [
      "Classes: ['immature', 'mature']\n"
     ]
    }
   ],
   "source": [
    "class_names = dataset.classes\n",
    "print(\"Classes:\", class_names)"
   ]
  },
  {
   "cell_type": "code",
   "execution_count": 39,
   "id": "33c6e90e",
   "metadata": {},
   "outputs": [],
   "source": [
    "train_size = int(0.8 * len(full_dataset))\n",
    "val_size = len(full_dataset) - train_size\n",
    "train_dataset, val_dataset = random_split(full_dataset, [train_size, val_size])"
   ]
  },
  {
   "cell_type": "code",
   "execution_count": 40,
   "id": "8199037c",
   "metadata": {},
   "outputs": [],
   "source": [
    "train_loader = DataLoader(train_dataset, batch_size=32, shuffle=True)\n",
    "val_loader = DataLoader(val_dataset, batch_size=32, shuffle=False)"
   ]
  },
  {
   "cell_type": "markdown",
   "id": "0523f901",
   "metadata": {},
   "source": [
    "RESNET-18"
   ]
  },
  {
   "cell_type": "code",
   "execution_count": 52,
   "id": "ef224c99",
   "metadata": {},
   "outputs": [
    {
     "name": "stderr",
     "output_type": "stream",
     "text": [
      "/opt/anaconda3/lib/python3.12/site-packages/torchvision/models/_utils.py:208: UserWarning: The parameter 'pretrained' is deprecated since 0.13 and may be removed in the future, please use 'weights' instead.\n",
      "  warnings.warn(\n",
      "/opt/anaconda3/lib/python3.12/site-packages/torchvision/models/_utils.py:223: UserWarning: Arguments other than a weight enum or `None` for 'weights' are deprecated since 0.13 and may be removed in the future. The current behavior is equivalent to passing `weights=ResNet18_Weights.IMAGENET1K_V1`. You can also use `weights=ResNet18_Weights.DEFAULT` to get the most up-to-date weights.\n",
      "  warnings.warn(msg)\n"
     ]
    }
   ],
   "source": [
    "model = models.resnet18(pretrained=True)\n",
    "model.fc = nn.Linear(model.fc.in_features, 2)  # 2 classes: mature, immature\n",
    "model = model"
   ]
  },
  {
   "cell_type": "code",
   "execution_count": 53,
   "id": "c2ef57bf",
   "metadata": {},
   "outputs": [],
   "source": [
    "criterion = nn.CrossEntropyLoss()\n",
    "optimizer = optim.Adam(model.parameters(), lr=0.0001)"
   ]
  },
  {
   "cell_type": "code",
   "execution_count": 54,
   "id": "927992ab",
   "metadata": {},
   "outputs": [
    {
     "name": "stdout",
     "output_type": "stream",
     "text": [
      "Epoch 1/15, Loss: 0.2400, Accuracy: 88.11%\n",
      "Epoch 2/15, Loss: 0.0090, Accuracy: 100.00%\n",
      "Epoch 3/15, Loss: 0.0011, Accuracy: 100.00%\n",
      "Epoch 4/15, Loss: 0.0012, Accuracy: 100.00%\n",
      "Epoch 5/15, Loss: 0.0018, Accuracy: 100.00%\n",
      "Epoch 6/15, Loss: 0.0025, Accuracy: 100.00%\n",
      "Epoch 7/15, Loss: 0.0008, Accuracy: 100.00%\n",
      "Epoch 8/15, Loss: 0.0002, Accuracy: 100.00%\n",
      "Epoch 9/15, Loss: 0.0002, Accuracy: 100.00%\n",
      "Epoch 10/15, Loss: 0.0004, Accuracy: 100.00%\n",
      "Epoch 11/15, Loss: 0.0003, Accuracy: 100.00%\n",
      "Epoch 12/15, Loss: 0.0002, Accuracy: 100.00%\n",
      "Epoch 13/15, Loss: 0.0003, Accuracy: 100.00%\n",
      "Epoch 14/15, Loss: 0.0002, Accuracy: 100.00%\n",
      "Epoch 15/15, Loss: 0.0007, Accuracy: 100.00%\n"
     ]
    }
   ],
   "source": [
    "num_epochs = 15\n",
    "for epoch in range(num_epochs):\n",
    "    model.train()\n",
    "    running_loss = 0.0\n",
    "    correct = 0\n",
    "    total = 0\n",
    "    \n",
    "    for images, labels in train_loader:\n",
    "        images = images\n",
    "        labels = labels\n",
    "\n",
    "        # Forward\n",
    "        outputs = model(images)\n",
    "        loss = criterion(outputs, labels)\n",
    "\n",
    "        # Backward\n",
    "        optimizer.zero_grad()\n",
    "        loss.backward()\n",
    "        optimizer.step()\n",
    "\n",
    "        # Accuracy\n",
    "        _, predicted = torch.max(outputs.data, 1)\n",
    "        total += labels.size(0)\n",
    "        correct += (predicted == labels).sum().item()\n",
    "\n",
    "        running_loss += loss.item()\n",
    "\n",
    "    epoch_loss = running_loss / len(train_loader)\n",
    "    epoch_acc = 100 * correct / total\n",
    "    print(f\"Epoch {epoch+1}/{num_epochs}, Loss: {epoch_loss:.4f}, Accuracy: {epoch_acc:.2f}%\")\n",
    "\n"
   ]
  },
  {
   "cell_type": "code",
   "execution_count": 55,
   "id": "c8be9c24",
   "metadata": {},
   "outputs": [],
   "source": [
    "torch.save(model.state_dict(), \"resnet18_cataract_model.pkl\")"
   ]
  },
  {
   "cell_type": "code",
   "execution_count": 56,
   "id": "0f29f721",
   "metadata": {},
   "outputs": [
    {
     "name": "stdout",
     "output_type": "stream",
     "text": [
      "\n",
      "Validation Classification Report:\n",
      "              precision    recall  f1-score   support\n",
      "\n",
      "    immature       1.00      1.00      1.00        42\n",
      "      mature       1.00      1.00      1.00        40\n",
      "\n",
      "    accuracy                           1.00        82\n",
      "   macro avg       1.00      1.00      1.00        82\n",
      "weighted avg       1.00      1.00      1.00        82\n",
      "\n"
     ]
    }
   ],
   "source": [
    "model.eval()\n",
    "val_preds, val_labels = [], []\n",
    "\n",
    "with torch.no_grad():\n",
    "    for images, labels in val_loader:\n",
    "        images = images\n",
    "        outputs = model(images)\n",
    "        _, preds = torch.max(outputs, 1)\n",
    "        val_preds.extend(preds.cpu().numpy())\n",
    "        val_labels.extend(labels.numpy())\n",
    "\n",
    "print(\"\\nValidation Classification Report:\")\n",
    "print(classification_report(val_labels, val_preds, target_names=class_names))"
   ]
  },
  {
   "cell_type": "markdown",
   "id": "db681a33",
   "metadata": {},
   "source": [
    "VGG-16"
   ]
  },
  {
   "cell_type": "code",
   "execution_count": 47,
   "id": "88d521b3",
   "metadata": {},
   "outputs": [
    {
     "name": "stderr",
     "output_type": "stream",
     "text": [
      "/opt/anaconda3/lib/python3.12/site-packages/torchvision/models/_utils.py:208: UserWarning: The parameter 'pretrained' is deprecated since 0.13 and may be removed in the future, please use 'weights' instead.\n",
      "  warnings.warn(\n",
      "/opt/anaconda3/lib/python3.12/site-packages/torchvision/models/_utils.py:223: UserWarning: Arguments other than a weight enum or `None` for 'weights' are deprecated since 0.13 and may be removed in the future. The current behavior is equivalent to passing `weights=VGG16_Weights.IMAGENET1K_V1`. You can also use `weights=VGG16_Weights.DEFAULT` to get the most up-to-date weights.\n",
      "  warnings.warn(msg)\n"
     ]
    },
    {
     "name": "stdout",
     "output_type": "stream",
     "text": [
      "Downloading: \"https://download.pytorch.org/models/vgg16-397923af.pth\" to /Users/subhadyutirath/.cache/torch/hub/checkpoints/vgg16-397923af.pth\n"
     ]
    },
    {
     "name": "stderr",
     "output_type": "stream",
     "text": [
      "100%|██████████| 528M/528M [01:51<00:00, 4.95MB/s] \n"
     ]
    }
   ],
   "source": [
    "vgg16 = models.vgg16(pretrained=True)\n",
    "vgg16.classifier[6] = nn.Linear(vgg16.classifier[6].in_features, 2)\n",
    "model = vgg16"
   ]
  },
  {
   "cell_type": "code",
   "execution_count": 48,
   "id": "582c78c8",
   "metadata": {},
   "outputs": [],
   "source": [
    "criterion = nn.CrossEntropyLoss()\n",
    "optimizer = optim.Adam(model.parameters(), lr=0.0001)"
   ]
  },
  {
   "cell_type": "code",
   "execution_count": 49,
   "id": "9c9183a3",
   "metadata": {},
   "outputs": [
    {
     "name": "stdout",
     "output_type": "stream",
     "text": [
      "Epoch 1/15, Loss: 0.4079, Accuracy: 76.83%\n",
      "Epoch 2/15, Loss: 0.0232, Accuracy: 99.09%\n",
      "Epoch 3/15, Loss: 0.0014, Accuracy: 100.00%\n",
      "Epoch 4/15, Loss: 0.0001, Accuracy: 100.00%\n",
      "Epoch 5/15, Loss: 0.0000, Accuracy: 100.00%\n",
      "Epoch 6/15, Loss: 0.0000, Accuracy: 100.00%\n",
      "Epoch 7/15, Loss: 0.0000, Accuracy: 100.00%\n",
      "Epoch 8/15, Loss: 0.0000, Accuracy: 100.00%\n",
      "Epoch 9/15, Loss: 0.0000, Accuracy: 100.00%\n",
      "Epoch 10/15, Loss: 0.0000, Accuracy: 100.00%\n",
      "Epoch 11/15, Loss: 0.0000, Accuracy: 100.00%\n",
      "Epoch 12/15, Loss: 0.0000, Accuracy: 100.00%\n",
      "Epoch 13/15, Loss: 0.0000, Accuracy: 100.00%\n",
      "Epoch 14/15, Loss: 0.0000, Accuracy: 100.00%\n",
      "Epoch 15/15, Loss: 0.0000, Accuracy: 100.00%\n"
     ]
    }
   ],
   "source": [
    "num_epochs = 15\n",
    "for epoch in range(num_epochs):\n",
    "    model.train()\n",
    "    running_loss = 0.0\n",
    "    correct = 0\n",
    "    total = 0\n",
    "    \n",
    "    for images, labels in train_loader:\n",
    "        images = images\n",
    "        labels = labels\n",
    "\n",
    "        # Forward\n",
    "        outputs = model(images)\n",
    "        loss = criterion(outputs, labels)\n",
    "\n",
    "        # Backward\n",
    "        optimizer.zero_grad()\n",
    "        loss.backward()\n",
    "        optimizer.step()\n",
    "\n",
    "        # Accuracy\n",
    "        _, predicted = torch.max(outputs.data, 1)\n",
    "        total += labels.size(0)\n",
    "        correct += (predicted == labels).sum().item()\n",
    "\n",
    "        running_loss += loss.item()\n",
    "\n",
    "    epoch_loss = running_loss / len(train_loader)\n",
    "    epoch_acc = 100 * correct / total\n",
    "    print(f\"Epoch {epoch+1}/{num_epochs}, Loss: {epoch_loss:.4f}, Accuracy: {epoch_acc:.2f}%\")"
   ]
  },
  {
   "cell_type": "code",
   "execution_count": 50,
   "id": "b26d90c9",
   "metadata": {},
   "outputs": [],
   "source": [
    "torch.save(model.state_dict(), \"vgg_cataract_model.pkl\")"
   ]
  },
  {
   "cell_type": "code",
   "execution_count": 51,
   "id": "37e8379a",
   "metadata": {},
   "outputs": [
    {
     "name": "stdout",
     "output_type": "stream",
     "text": [
      "\n",
      "Validation Classification Report:\n",
      "              precision    recall  f1-score   support\n",
      "\n",
      "    immature       1.00      1.00      1.00        42\n",
      "      mature       1.00      1.00      1.00        40\n",
      "\n",
      "    accuracy                           1.00        82\n",
      "   macro avg       1.00      1.00      1.00        82\n",
      "weighted avg       1.00      1.00      1.00        82\n",
      "\n"
     ]
    }
   ],
   "source": [
    "model.eval()\n",
    "val_preds, val_labels = [], []\n",
    "\n",
    "with torch.no_grad():\n",
    "    for images, labels in val_loader:\n",
    "        images = images\n",
    "        outputs = model(images)\n",
    "        _, preds = torch.max(outputs, 1)\n",
    "        val_preds.extend(preds.cpu().numpy())\n",
    "        val_labels.extend(labels.numpy())\n",
    "\n",
    "print(\"\\nValidation Classification Report:\")\n",
    "print(classification_report(val_labels, val_preds, target_names=class_names))"
   ]
  },
  {
   "cell_type": "code",
   "execution_count": 57,
   "id": "0d7a7ea3",
   "metadata": {},
   "outputs": [
    {
     "name": "stderr",
     "output_type": "stream",
     "text": [
      "/opt/anaconda3/lib/python3.12/site-packages/torchvision/models/_utils.py:208: UserWarning: The parameter 'pretrained' is deprecated since 0.13 and may be removed in the future, please use 'weights' instead.\n",
      "  warnings.warn(\n",
      "/opt/anaconda3/lib/python3.12/site-packages/torchvision/models/_utils.py:223: UserWarning: Arguments other than a weight enum or `None` for 'weights' are deprecated since 0.13 and may be removed in the future. The current behavior is equivalent to passing `weights=DenseNet121_Weights.IMAGENET1K_V1`. You can also use `weights=DenseNet121_Weights.DEFAULT` to get the most up-to-date weights.\n",
      "  warnings.warn(msg)\n"
     ]
    },
    {
     "name": "stdout",
     "output_type": "stream",
     "text": [
      "Downloading: \"https://download.pytorch.org/models/densenet121-a639ec97.pth\" to /Users/subhadyutirath/.cache/torch/hub/checkpoints/densenet121-a639ec97.pth\n"
     ]
    },
    {
     "name": "stderr",
     "output_type": "stream",
     "text": [
      "100%|██████████| 30.8M/30.8M [00:05<00:00, 5.62MB/s]\n"
     ]
    }
   ],
   "source": [
    "densenet = models.densenet121(pretrained=True)\n",
    "densenet.classifier = nn.Linear(densenet.classifier.in_features, 2)\n",
    "model = densenet\n"
   ]
  },
  {
   "cell_type": "code",
   "execution_count": 58,
   "id": "2540e58b",
   "metadata": {},
   "outputs": [],
   "source": [
    "criterion = nn.CrossEntropyLoss()\n",
    "optimizer = optim.Adam(model.parameters(), lr=0.0001)"
   ]
  },
  {
   "cell_type": "code",
   "execution_count": 59,
   "id": "942ac535",
   "metadata": {},
   "outputs": [
    {
     "name": "stdout",
     "output_type": "stream",
     "text": [
      "Epoch 1/15, Loss: 0.3867, Accuracy: 85.37%\n",
      "Epoch 2/15, Loss: 0.0428, Accuracy: 100.00%\n",
      "Epoch 3/15, Loss: 0.0149, Accuracy: 100.00%\n",
      "Epoch 4/15, Loss: 0.0072, Accuracy: 100.00%\n",
      "Epoch 5/15, Loss: 0.0121, Accuracy: 100.00%\n",
      "Epoch 6/15, Loss: 0.0056, Accuracy: 100.00%\n",
      "Epoch 7/15, Loss: 0.0031, Accuracy: 100.00%\n",
      "Epoch 8/15, Loss: 0.0028, Accuracy: 100.00%\n",
      "Epoch 9/15, Loss: 0.0021, Accuracy: 100.00%\n",
      "Epoch 10/15, Loss: 0.0027, Accuracy: 100.00%\n",
      "Epoch 11/15, Loss: 0.0020, Accuracy: 100.00%\n",
      "Epoch 12/15, Loss: 0.0017, Accuracy: 100.00%\n",
      "Epoch 13/15, Loss: 0.0016, Accuracy: 100.00%\n",
      "Epoch 14/15, Loss: 0.0015, Accuracy: 100.00%\n",
      "Epoch 15/15, Loss: 0.0018, Accuracy: 100.00%\n"
     ]
    }
   ],
   "source": [
    "num_epochs = 15\n",
    "for epoch in range(num_epochs):\n",
    "    model.train()\n",
    "    running_loss = 0.0\n",
    "    correct = 0\n",
    "    total = 0\n",
    "    \n",
    "    for images, labels in train_loader:\n",
    "        images = images\n",
    "        labels = labels\n",
    "\n",
    "        # Forward\n",
    "        outputs = model(images)\n",
    "        loss = criterion(outputs, labels)\n",
    "\n",
    "        # Backward\n",
    "        optimizer.zero_grad()\n",
    "        loss.backward()\n",
    "        optimizer.step()\n",
    "\n",
    "        # Accuracy\n",
    "        _, predicted = torch.max(outputs.data, 1)\n",
    "        total += labels.size(0)\n",
    "        correct += (predicted == labels).sum().item()\n",
    "\n",
    "        running_loss += loss.item()\n",
    "\n",
    "    epoch_loss = running_loss / len(train_loader)\n",
    "    epoch_acc = 100 * correct / total\n",
    "    print(f\"Epoch {epoch+1}/{num_epochs}, Loss: {epoch_loss:.4f}, Accuracy: {epoch_acc:.2f}%\")"
   ]
  },
  {
   "cell_type": "code",
   "execution_count": 60,
   "id": "ecdc73f0",
   "metadata": {},
   "outputs": [],
   "source": [
    "torch.save(model.state_dict(), \"densenet121_cataract_model.pkl\")"
   ]
  },
  {
   "cell_type": "code",
   "execution_count": 61,
   "id": "d94bf4ed",
   "metadata": {},
   "outputs": [
    {
     "name": "stdout",
     "output_type": "stream",
     "text": [
      "\n",
      "Validation Classification Report:\n",
      "              precision    recall  f1-score   support\n",
      "\n",
      "    immature       1.00      1.00      1.00        42\n",
      "      mature       1.00      1.00      1.00        40\n",
      "\n",
      "    accuracy                           1.00        82\n",
      "   macro avg       1.00      1.00      1.00        82\n",
      "weighted avg       1.00      1.00      1.00        82\n",
      "\n"
     ]
    }
   ],
   "source": [
    "model.eval()\n",
    "val_preds, val_labels = [], []\n",
    "\n",
    "with torch.no_grad():\n",
    "    for images, labels in val_loader:\n",
    "        images = images\n",
    "        outputs = model(images)\n",
    "        _, preds = torch.max(outputs, 1)\n",
    "        val_preds.extend(preds.cpu().numpy())\n",
    "        val_labels.extend(labels.numpy())\n",
    "\n",
    "print(\"\\nValidation Classification Report:\")\n",
    "print(classification_report(val_labels, val_preds, target_names=class_names))"
   ]
  }
 ],
 "metadata": {
  "kernelspec": {
   "display_name": "base",
   "language": "python",
   "name": "python3"
  },
  "language_info": {
   "codemirror_mode": {
    "name": "ipython",
    "version": 3
   },
   "file_extension": ".py",
   "mimetype": "text/x-python",
   "name": "python",
   "nbconvert_exporter": "python",
   "pygments_lexer": "ipython3",
   "version": "3.12.7"
  }
 },
 "nbformat": 4,
 "nbformat_minor": 5
}
